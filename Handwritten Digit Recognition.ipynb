{
 "cells": [
  {
   "cell_type": "code",
   "execution_count": 1,
   "id": "f2412e69",
   "metadata": {},
   "outputs": [
    {
     "name": "stdout",
     "output_type": "stream",
     "text": [
      "Model: \"sequential\"\n",
      "_________________________________________________________________\n",
      " Layer (type)                Output Shape              Param #   \n",
      "=================================================================\n",
      " conv2d (Conv2D)             (None, 26, 26, 32)        320       \n",
      "                                                                 \n",
      " max_pooling2d (MaxPooling2D  (None, 13, 13, 32)       0         \n",
      " )                                                               \n",
      "                                                                 \n",
      " conv2d_1 (Conv2D)           (None, 11, 11, 64)        18496     \n",
      "                                                                 \n",
      " max_pooling2d_1 (MaxPooling  (None, 5, 5, 64)         0         \n",
      " 2D)                                                             \n",
      "                                                                 \n",
      " conv2d_2 (Conv2D)           (None, 3, 3, 64)          36928     \n",
      "                                                                 \n",
      " flatten (Flatten)           (None, 576)               0         \n",
      "                                                                 \n",
      " dense (Dense)               (None, 64)                36928     \n",
      "                                                                 \n",
      " dense_1 (Dense)             (None, 10)                650       \n",
      "                                                                 \n",
      "=================================================================\n",
      "Total params: 93,322\n",
      "Trainable params: 93,322\n",
      "Non-trainable params: 0\n",
      "_________________________________________________________________\n"
     ]
    }
   ],
   "source": [
    "from tensorflow.keras import layers\n",
    "from tensorflow.keras import models\n",
    "from keras.datasets import mnist\n",
    "from keras.utils import to_categorical\n",
    "\n",
    "(train_images, train_labels), (test_images, test_labels) = mnist.load_data()\n",
    "\n",
    "model = models.Sequential()\n",
    "model.add(layers.Conv2D(32, (3, 3), activation='relu', input_shape=(28, 28, 1)))\n",
    "model.add(layers.MaxPooling2D((2, 2)))\n",
    "model.add(layers.Conv2D(64, (3, 3), activation='relu'))\n",
    "model.add(layers.MaxPooling2D((2, 2)))\n",
    "model.add(layers.Conv2D(64, (3, 3), activation='relu'))\n",
    "\n",
    "model.add(layers.Flatten())\n",
    "model.add(layers.Dense(64, activation='relu'))\n",
    "model.add(layers.Dense(10, activation='softmax'))\n",
    "model.summary()"
   ]
  },
  {
   "cell_type": "code",
   "execution_count": 2,
   "id": "a08eb7cc",
   "metadata": {},
   "outputs": [
    {
     "name": "stdout",
     "output_type": "stream",
     "text": [
      "Epoch 1/10\n",
      "938/938 [==============================] - 61s 62ms/step - loss: 0.2775 - accuracy: 0.9383\n",
      "Epoch 2/10\n",
      "938/938 [==============================] - 56s 60ms/step - loss: 0.0598 - accuracy: 0.9816\n",
      "Epoch 3/10\n",
      "938/938 [==============================] - 55s 59ms/step - loss: 0.0461 - accuracy: 0.9853\n",
      "Epoch 4/10\n",
      "938/938 [==============================] - 55s 59ms/step - loss: 0.0359 - accuracy: 0.9887\n",
      "Epoch 5/10\n",
      "938/938 [==============================] - 57s 61ms/step - loss: 0.0333 - accuracy: 0.9895\n",
      "Epoch 6/10\n",
      "938/938 [==============================] - 56s 60ms/step - loss: 0.0277 - accuracy: 0.9910\n",
      "Epoch 7/10\n",
      "938/938 [==============================] - 59s 63ms/step - loss: 0.0294 - accuracy: 0.9910\n",
      "Epoch 8/10\n",
      "938/938 [==============================] - 56s 59ms/step - loss: 0.0236 - accuracy: 0.9924\n",
      "Epoch 9/10\n",
      "938/938 [==============================] - 55s 59ms/step - loss: 0.0211 - accuracy: 0.9938\n",
      "Epoch 10/10\n",
      "938/938 [==============================] - 56s 60ms/step - loss: 0.0190 - accuracy: 0.9939\n",
      "313/313 [==============================] - 3s 10ms/step - loss: 0.0481 - accuracy: 0.9879\n",
      "0.9879000186920166\n"
     ]
    }
   ],
   "source": [
    "train_images=train_images.reshape((60000,28,28,1))\n",
    "train_images.astype('float32')/255 #scaling of datasets\n",
    "\n",
    "\n",
    "test_images=test_images.reshape((10000,28,28,1))\n",
    "test_images.astype('float32')/255 #scaling of datasets\n",
    "\n",
    "train_labels=to_categorical(train_labels)\n",
    "test_labels=to_categorical(test_labels)\n",
    "\n",
    "model.compile(optimizer='adam',loss='categorical_crossentropy',metrics=['accuracy'])\n",
    "\n",
    "model.fit(train_images,train_labels,epochs=10,batch_size=64)\n",
    "\n",
    "test_loss,test_acc=model.evaluate(test_images,test_labels)\n",
    "\n",
    "print(test_acc)\n",
    "\n",
    "model.save('mnist.h5')\n"
   ]
  },
  {
   "cell_type": "code",
   "execution_count": null,
   "id": "267d161a",
   "metadata": {},
   "outputs": [],
   "source": []
  }
 ],
 "metadata": {
  "kernelspec": {
   "display_name": "Python 3 (ipykernel)",
   "language": "python",
   "name": "python3"
  },
  "language_info": {
   "codemirror_mode": {
    "name": "ipython",
    "version": 3
   },
   "file_extension": ".py",
   "mimetype": "text/x-python",
   "name": "python",
   "nbconvert_exporter": "python",
   "pygments_lexer": "ipython3",
   "version": "3.10.9"
  }
 },
 "nbformat": 4,
 "nbformat_minor": 5
}
